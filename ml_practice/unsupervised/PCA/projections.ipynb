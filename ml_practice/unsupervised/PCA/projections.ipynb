{
 "cells": [
  {
   "cell_type": "markdown",
   "metadata": {},
   "source": [
    "# Projection of a Point onto a Line Starting from a Non-Origin Point\n",
    "\n",
    "## Introduction\n",
    "When we project a point onto a line, we often start with lines that originate from the origin and use the orthogonal property to find the projection. This involves scaling the line's direction vector to minimize the distance to the point in question. However, the scenario becomes slightly more complex when the line is defined to start from a specific point other than the origin.\n",
    "\n",
    "## Basic Projection\n",
    "For a line defined by a unit vector $\\vec{v}$ starting from the origin, the projection of a point $\\vec{P}$ onto this line is given by:\n",
    "\n",
    "$$\n",
    "\\text{proj}_v(P) = (P \\cdot v) \\frac{v}{\\|v\\|^2}\n",
    "$$\n"
   ]
  },
  {
   "cell_type": "markdown",
   "metadata": {},
   "source": [
    "\n",
    "Here, $\\cdot$ denotes the dot product, and $\\vec{P}$ is the position vector of the point $P$.\n",
    "\n",
    "## Adjusted Projection for a Line Starting from Point $Z$\n",
    "When the line starts from a point $Z$ (with position vector $\\vec{Z}$) and has a direction vector $\\vec{v}$, we adjust our approach to account for the new origin:\n",
    "\n",
    "1. **Translate the Origin**: Compute the vector $\\vec{PZ} = \\vec{P} - \\vec{Z}$ to represent the position of $P$ relative to $Z$.\n",
    "\n",
    "2. **Calculate the Projection**: Apply the projection formula in this new space:\n",
    "\n",
    "\n",
    "$$\\text{proj}_{\\vec{v}}(\\vec{PZ}) = \\frac{\\vec{PZ} \\cdot \\vec{v}}{\\vec{v} \\cdot \\vec{v}} \\vec{v}$$\n",
    "\n",
    "This calculates the projection of $P$ onto the line, treating $Z$ as the origin.\n",
    "\n",
    "3. **Translate Back**: Add $\\vec{Z}$ to the result to return to the original coordinate system:\n",
    "\n",
    "\n",
    "$$\\text{proj}_{\\vec{v},Z}(\\vec{P}) = \\vec{Z} + \\frac{\\vec{PZ} \\cdot \\vec{v}}{\\vec{v} \\cdot \\vec{v}} \\vec{v}$$\n",
    "\n",
    "\n",
    "$\\text{proj}_{\\vec{v},Z}(\\vec{P})$ is the projection of $P$ onto the line defined by vector $\\vec{v}$ starting from point $Z$.\n",
    "\n",
    "## Significance\n",
    "This concept is fundamental in understanding operations like PCA, where projecting data points onto lines (or planes) defined by principal components helps reduce dimensionality while preserving variance. The technique demonstrates the flexibility and power of vector mathematics in simplifying and solving complex spatial problems by shifting perspectives and coordinate systems.\n"
   ]
  },
  {
   "cell_type": "markdown",
   "metadata": {},
   "source": []
  }
 ],
 "metadata": {
  "kernelspec": {
   "display_name": "Python 3 (ipykernel)",
   "language": "python",
   "name": "python3"
  },
  "language_info": {
   "codemirror_mode": {
    "name": "ipython",
    "version": 3
   },
   "file_extension": ".py",
   "mimetype": "text/x-python",
   "name": "python",
   "nbconvert_exporter": "python",
   "pygments_lexer": "ipython3",
   "version": "3.9.13"
  }
 },
 "nbformat": 4,
 "nbformat_minor": 2
}
