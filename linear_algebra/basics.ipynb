{
 "cells": [
  {
   "cell_type": "markdown",
   "metadata": {},
   "source": [
    "[Back to Index](../index.html)"
   ]
  },
  {
   "cell_type": "markdown",
   "metadata": {},
   "source": [
    "If $b = Ax$, then $b$ is a linear combination of the columns of $A$ using components of x as weights.\n",
    "\n",
    "If A is invertible, then $x = A^{-1}b$.\n",
    "where, $A^{-1}$ is the inverse of $A$.\n",
    "\n",
    "If A is not invertible, then $x = A^+b$.\n",
    "where, $A^+$ denotes the Moore-Penrose pseudoinverse of A. The pseudoinverse allows for the computation of a solution to the system of linear equations even when A is not invertible"
   ]
  },
  {
   "cell_type": "code",
   "execution_count": 4,
   "metadata": {},
   "outputs": [],
   "source": [
    "import numpy as np\n",
    "import matplotlib.pyplot as plt"
   ]
  },
  {
   "cell_type": "markdown",
   "metadata": {},
   "source": [
    "### Matrix-vector multiplication Use case - Markov Chain"
   ]
  },
  {
   "cell_type": "markdown",
   "metadata": {},
   "source": [
    "In a Markov chain, the probability of transitioning to a future state depends only on the current state and not on the sequence of events that preceded it. This can be illustrated with a simple two-state Markov chain representing the weather as rainy or sunny.\n",
    "\n",
    "Let's define the transition matrix P, where P(i, j) represents the probability of transitioning from state i to state j. In this case, the states are \"rainy\" and \"sunny\". The transition matrix is given by:\n",
    "\n",
    "$$\n",
    "P = \\begin{bmatrix}\n",
    "0.5 & 0.5 \\\\\n",
    "0.4 & 0.6\n",
    "\\end{bmatrix}\n",
    "$$\n",
    "\n",
    "\n",
    "This means that if it is rainy today, the probability of it being rainy tomorrow is 0.5, and the probability of it being sunny tomorrow is 0.5. If it is sunny today, the probability of it being rainy tomorrow is 0.4, and the probability of it being sunny tomorrow is 0.6.\n",
    "\n",
    "To find the probability of the weather being rainy or sunny on the next day, we can use the current probabilities of the weather being rainy or sunny and the transition matrix. If the current probabilities are represented by a row vector $$\\pi = [\\pi_{\\text{rainy}}, \\pi_{\\text{sunny}}]$$, then the probabilities for the next day are given by:\n",
    "\n",
    "$$\n",
    "\\pi^{(1)} = \\pi \\times P\n",
    "$$\n",
    "\n",
    "\n",
    "The matrix-vector multiplication correctly gives the next state probabilities due to the properties of the transition matrix and the interpretation of the multiplication operation. When we perform the multiplication $\\pi \\times P$, each element in the resulting vector $\\pi^{(1)}$ represents the weighted sum of the transition probabilities from the current states to all possible next states. This aligns with the fundamental concept of Markov chains, where the next state probabilities are determined by the current state and the transition probabilities.\n",
    "\n",
    "The probability of the next state being rainy is given by the matrix-vector multiplication:\n",
    "\n",
    "$$\n",
    "\\begin{aligned}\n",
    "P(\\text{next state = rainy}) & = P(\\text{current state = rainy}) \\times P(\\text{rainy} | \\text{rainy}) + P(\\text{current state = sunny}) \\times P(\\text{rainy} | \\text{sunny}) \\\\\n",
    "& = \\pi \\times \\begin{bmatrix} 0.5 & 0.5 \\\\ 0.4 & 0.6 \\end{bmatrix}\n",
    "\\end{aligned}\n",
    "$$\n",
    "\n",
    "\n",
    "And the probability of the next state being sunny is given by:\n",
    "\n",
    "$$\n",
    "\\begin{aligned}\n",
    "P(\\text{next state = sunny}) & = P(\\text{current state = rainy}) \\times P(\\text{sunny} | \\text{rainy}) + P(\\text{current state = sunny}) \\times P(\\text{sunny} | \\text{sunny}) \\\\\n",
    "& = \\pi \\times \\begin{bmatrix} 0.5 & 0.5 \\\\ 0.4 & 0.6 \\end{bmatrix}\n",
    "\\end{aligned}\n",
    "$$\n",
    "\n"
   ]
  },
  {
   "cell_type": "code",
   "execution_count": 39,
   "metadata": {},
   "outputs": [
    {
     "name": "stdout",
     "output_type": "stream",
     "text": [
      "A is \n",
      "[[0.9  0.07 0.02 0.01]\n",
      " [0.   0.93 0.05 0.02]\n",
      " [0.   0.   0.85 0.15]\n",
      " [0.   0.   0.   1.  ]]\n",
      "\n",
      "x is [0.85 0.1  0.05 0.  ]\n",
      "\n",
      "x_next is [0.765  0.1525 0.0645 0.018 ]\n"
     ]
    }
   ],
   "source": [
    "# Probabilities of moving from 1 health state to another in 1 year\n",
    "A = np.array(\n",
    "    [\n",
    "        [0.9, 0.07, 0.02, 0.01],\n",
    "        [0, 0.93, 0.05, 0.02],\n",
    "        [0, 0, 0.85, 0.15],\n",
    "        [0, 0, 0, 1]\n",
    "    ]\n",
    ")\n",
    "print(f\"A is \\n{A}\\n\") # A_ij = probability of moving from health state i to health state j in 1 year\n",
    "\n",
    "\n",
    "# Current Health States\n",
    "x = np.array([0.85, 0.1, 0.05, 0])\n",
    "print(f\"x is {x}\\n\") # x_i = probability of being in health state i now\n",
    "\n",
    "## To find probabilities of being in each health state in 1 year, \n",
    "## the formula to find the probability of being in health state j in 1 year is: \n",
    "## x_j = sum_i(x_i * A_ij)\n",
    "## where x_i is the probability of being in health state i now,\n",
    "## and A_ij is the probability of moving from health state i to health state j in 1 year\n",
    "\n",
    "x_next = x @ A #  (x @ A).T by default, numpy does broadcasting but to be strict, we can transpose \n",
    "\n",
    "# other way to do it is A.T @ x.T\n",
    "\n",
    "x_next.shape\n",
    "print(f\"x_next is {x_next}\") # x_next_j = probability of being in health state j in 1 year"
   ]
  },
  {
   "cell_type": "code",
   "execution_count": null,
   "metadata": {},
   "outputs": [],
   "source": []
  }
 ],
 "metadata": {
  "kernelspec": {
   "display_name": "personal",
   "language": "python",
   "name": "python3"
  },
  "language_info": {
   "codemirror_mode": {
    "name": "ipython",
    "version": 3
   },
   "file_extension": ".py",
   "mimetype": "text/x-python",
   "name": "python",
   "nbconvert_exporter": "python",
   "pygments_lexer": "ipython3",
   "version": "3.9.13"
  }
 },
 "nbformat": 4,
 "nbformat_minor": 2
}
