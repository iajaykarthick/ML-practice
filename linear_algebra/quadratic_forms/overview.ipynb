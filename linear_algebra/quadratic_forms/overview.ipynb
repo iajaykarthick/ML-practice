{
 "cells": [
  {
   "cell_type": "markdown",
   "id": "9d96b4c8",
   "metadata": {},
   "source": [
    "### Linear Form:\n",
    "\n",
    "A **linear form** is a linear function that maps elements from a vector space to the field of scalars. Mathematically, it can be represented as:\n",
    "\n",
    "$$\n",
    "L(v) = a_1x_1 + a_2x_2 + \\ldots + a_nx_n\n",
    "$$\n",
    "\n",
    "where $L$ is the linear form, $v$ is a vector such that $v = \\begin{bmatrix} x_1 \\\\ x_2 \\\\ \\vdots \\\\ x_n \\end{bmatrix}$, and $a_1, a_2, \\ldots, a_n$ are constants."
   ]
  },
  {
   "cell_type": "markdown",
   "id": "31d57e9a",
   "metadata": {},
   "source": [
    "![linear_form](./linear_form.png)"
   ]
  },
  {
   "cell_type": "markdown",
   "id": "90c23db0",
   "metadata": {},
   "source": [
    "### Bilinear Form:\n",
    "\n",
    "A **bilinear form** is a function that takes two vector inputs and produces a scalar. It is linear in each variable. Mathematically, it can be represented as:\n",
    "\n",
    "$$\n",
    "B(u, v) = u^T \\cdot A \\cdot v\n",
    "$$\n",
    "\n",
    "where $B$ is the bilinear form, $u$ and $v$ are vectors, and $A$ is a matrix."
   ]
  },
  {
   "cell_type": "markdown",
   "id": "45b01a6a",
   "metadata": {},
   "source": [
    "![linear_form](./bilinear_form.png)"
   ]
  },
  {
   "cell_type": "code",
   "execution_count": null,
   "id": "ed001ef2",
   "metadata": {},
   "outputs": [],
   "source": []
  },
  {
   "cell_type": "markdown",
   "id": "6650b8c5",
   "metadata": {},
   "source": [
    "### Quadratic Form:\n",
    "\n",
    "A **quadratic form** is a special case of a bilinear form where both vectors are the same. It is a homogeneous polynomial of degree 2 in the variables. Mathematically, it can be represented as:\n",
    "\n",
    "$$\n",
    "Q(v) = v^T \\cdot C \\cdot v\n",
    "$$\n",
    "\n",
    "where $Q$ is the quadratic form, $v$ is a vector, and $C$ is a symmetric matrix.\n",
    "\n",
    "These concepts are fundamental in linear algebra and find applications in various areas, including optimization, physics, and machine learning.\n"
   ]
  },
  {
   "cell_type": "markdown",
   "id": "13fe95d8",
   "metadata": {},
   "source": [
    "![linear_form](./quad_form.png)"
   ]
  },
  {
   "cell_type": "markdown",
   "id": "2fd069c7",
   "metadata": {},
   "source": [
    "We can see that the quadratic form is affected by the magnitude of the weight vector. Maximizing the weight vector's magnitude increases the quadratic form, but such influence is undesirable. Our objective is to compute the maxima or minima of the quadratic form, which should be primarily influenced by the matrix.\n",
    "\n",
    "Scale Independence: The quadratic form involves multiplying a vector by a matrix and then by its transpose. If the vectors used have different scales, the resulting quadratic form can be heavily influenced by the magnitude of the vectors. Normalizing the vectors ensures that the quadratic form is primarily influenced by the matrix rather than the scale of the vectors.\n",
    "\n",
    "**Normalization Removes Scale Dependency**: The normalization process involves scaling each vector to have a unit length, thereby removing the influence of vector length on the resulting quadratic form. By dividing each vector by its magnitude, we ensure that all vectors have the same scale. This makes it easier to interpret the quadratic form's behavior, as it's primarily influenced by the matrix `C` rather than the scale of the vectors.\n",
    "\n",
    "\n"
   ]
  },
  {
   "cell_type": "markdown",
   "id": "1a1b0946",
   "metadata": {},
   "source": [
    "![quad form with normalization](./quad_form_with_normalization.png)"
   ]
  },
  {
   "cell_type": "markdown",
   "id": "fe466e4c",
   "metadata": {},
   "source": [
    "1. **Eigenvectors Represent Maximum and Minimum Variance**: The eigenvectors of the matrix `C` represent the directions in which the quadratic form has maximum and minimum values. These directions correspond to the principal axes of the quadratic form's surface.\n",
    "\n",
    "2. **Interpretation of Principal Axes**: When vectors are normalized before computing the quadratic form, the eigenvectors accurately point in the directions of maximum and minimum variance. This allows for a clearer interpretation of the principal axes of the quadratic form's surface.\n",
    "\n",
    "By normalizing the vectors before computing the quadratic form, we ensure that the resulting quadratic form accurately reflects the influence of the matrix `C` on the vectors, facilitating a more meaningful interpretation of the quadratic form's behavior."
   ]
  },
  {
   "cell_type": "markdown",
   "id": "fc6e8471",
   "metadata": {},
   "source": []
  }
 ],
 "metadata": {
  "kernelspec": {
   "display_name": "Python 3 (ipykernel)",
   "language": "python",
   "name": "python3"
  },
  "language_info": {
   "codemirror_mode": {
    "name": "ipython",
    "version": 3
   },
   "file_extension": ".py",
   "mimetype": "text/x-python",
   "name": "python",
   "nbconvert_exporter": "python",
   "pygments_lexer": "ipython3",
   "version": "3.9.13"
  }
 },
 "nbformat": 4,
 "nbformat_minor": 5
}
