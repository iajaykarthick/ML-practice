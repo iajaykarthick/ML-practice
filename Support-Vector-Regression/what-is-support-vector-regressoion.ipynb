{
 "cells": [
  {
   "cell_type": "markdown",
   "metadata": {
    "collapsed": true,
    "pycharm": {
     "name": "#%% md\n"
    }
   },
   "source": [
    "# Support Vector Regression"
   ]
  },
  {
   "cell_type": "markdown",
   "source": [
    "Support Vetor Regression (SVR) uses $\\epsilon$-insensitive tube. The value of ε determines the width of the tube; a smaller value indicates a lower tolerance for error.\n",
    "\n",
    "Unlike Ordinary Least Square methods used in Simple Linear Regression which considers errors made by all values outside the line,\n",
    "SVR doesn't care about the error within the insensitive tube.\n",
    "\n",
    "Errors within the $\\epsilon$ Insensitive tube are completely disregarded."
   ],
   "metadata": {
    "collapsed": false,
    "pycharm": {
     "name": "#%% md\n"
    }
   }
  },
  {
   "cell_type": "markdown",
   "source": [
    "\\begin{equation}\n",
    "\\frac{1}{2} ||w||^2 + C \\sum_{i=1}^m (\\epsilon_i + \\epsilon_i^*) \\rightarrow min\n",
    "\\end{equation}\n",
    "\n",
    "$\\epsilon$ - Insensitive tube\n",
    "\n",
    "$\\epsilon_i$ and $\\epsilon_i^*$ are Slack variables"
   ],
   "metadata": {
    "collapsed": false,
    "pycharm": {
     "name": "#%% md\n"
    }
   }
  }
 ],
 "metadata": {
  "kernelspec": {
   "display_name": "Python 3",
   "language": "python",
   "name": "python3"
  },
  "language_info": {
   "codemirror_mode": {
    "name": "ipython",
    "version": 2
   },
   "file_extension": ".py",
   "mimetype": "text/x-python",
   "name": "python",
   "nbconvert_exporter": "python",
   "pygments_lexer": "ipython2",
   "version": "2.7.6"
  }
 },
 "nbformat": 4,
 "nbformat_minor": 0
}