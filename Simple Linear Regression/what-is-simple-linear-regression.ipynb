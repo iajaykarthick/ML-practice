{
 "cells": [
  {
   "cell_type": "markdown",
   "metadata": {
    "collapsed": true,
    "pycharm": {
     "name": "#%% md\n"
    }
   },
   "source": [
    "# Simple Linear Regression"
   ]
  },
  {
   "cell_type": "markdown",
   "source": [
    "y = $b_{0}$ + $b_{1}$ * $x_{1}$\n",
    "\n",
    "y - dependent variable\n",
    "\n",
    "x - independent variable\n",
    "\n",
    "b1 - coefficient\n",
    "\n",
    "b1 determines how a unit change in $x_{1}$ affects a unit change in y\n",
    "\n",
    "$b_{0}$ - constant term"
   ],
   "metadata": {
    "collapsed": false,
    "pycharm": {
     "name": "#%% md\n"
    }
   }
  },
  {
   "cell_type": "markdown",
   "source": [
    "Simple linear regression is just putting a line through your chart that best fits the data"
   ],
   "metadata": {
    "collapsed": false,
    "pycharm": {
     "name": "#%% md\n"
    }
   }
  },
  {
   "cell_type": "markdown",
   "source": [
    "y<sup>&#8248;</sup>$_{i}$ - a modeled value\n",
    "\n",
    "$y_{i}$ - an observed value\n",
    "\n",
    "To get the best fitting line, simple linear regression uses OLS (Ordinary Least Squares) method\n",
    "\n",
    "It draws all possible trend lines and takes the sum of squares of difference between modeled value and observed value for all the lines\n",
    "\n",
    "And chooses the line with miniumum total difference as the best fitting line.\n",
    "\n",
    "SUM(y - y<sup>^</sup>$)^{2}$    -> min\n",
    "\n"
   ],
   "metadata": {
    "collapsed": false,
    "pycharm": {
     "name": "#%% md\n"
    }
   }
  }
 ],
 "metadata": {
  "kernelspec": {
   "display_name": "Python 3",
   "language": "python",
   "name": "python3"
  },
  "language_info": {
   "codemirror_mode": {
    "name": "ipython",
    "version": 2
   },
   "file_extension": ".py",
   "mimetype": "text/x-python",
   "name": "python",
   "nbconvert_exporter": "python",
   "pygments_lexer": "ipython2",
   "version": "2.7.6"
  }
 },
 "nbformat": 4,
 "nbformat_minor": 0
}