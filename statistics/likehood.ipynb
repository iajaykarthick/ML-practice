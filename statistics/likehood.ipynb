{
 "cells": [
  {
   "cell_type": "markdown",
   "metadata": {},
   "source": [
    "## Likelihood:\n",
    "\n",
    "The likelihood of the parameters given the observed data quantifies the probability of observing the entire dataset if the data were generated from a particular distribution with specific parameters. It’s a function of the parameters of the model.\n",
    "\n",
    "\n",
    "The likelihood function for a set of parameters $\\theta$ given data $X$ is defined as:\n",
    "\n",
    "$$\n",
    "L(\\theta | X) = P(X | \\theta)\n",
    "$$\n",
    "\n",
    "where:\n",
    "- $L(\\theta | X)$ is the likelihood of $\\theta$ given $X$.\n",
    "- $P(X | \\theta)$ is the probability of observing the data $X$ given the parameters $\\theta$.\n",
    "\n",
    "\n",
    "\n",
    " **It is different from the Probability of the dataset following a particular distribution**: This is a more general concept that considers the overall fit of the data to the assumed distribution without specifying the parameter values."
   ]
  },
  {
   "cell_type": "code",
   "execution_count": null,
   "metadata": {},
   "outputs": [],
   "source": []
  },
  {
   "cell_type": "code",
   "execution_count": null,
   "metadata": {},
   "outputs": [],
   "source": []
  },
  {
   "cell_type": "code",
   "execution_count": 2,
   "metadata": {},
   "outputs": [],
   "source": [
    "import numpy as np\n",
    "import scipy.stats as stats\n",
    "import matplotlib.pyplot as plt"
   ]
  },
  {
   "cell_type": "code",
   "execution_count": null,
   "metadata": {},
   "outputs": [],
   "source": [
    "def likelihood(data, params):\n",
    "    \"\"\"\n",
    "    Calculate the likelihood of observing the data given the parameters of a Gaussian distribution.\n",
    "\n",
    "    Parameters:\n",
    "    data (array-like): Observed data points.\n",
    "    params (tuple): Parameters of the Gaussian distribution (mean, standard deviation).\n",
    "\n",
    "    Returns:\n",
    "    float: Likelihood of observing the data given the parameters.\n",
    "    \"\"\"\n",
    "    mean, std = params\n",
    "    # Calculate the likelihood by multiplying the probability density function (PDF) of each data point\n",
    "    likelihoods = [1 / (std * np.sqrt(2 * np.pi)) * np.exp(-0.5 * ((x - mean) / std) ** 2) for x in data]\n",
    "    # Multiply the likelihoods of all data points to get the overall likelihood\n",
    "    return np.prod(likelihoods)"
   ]
  },
  {
   "cell_type": "code",
   "execution_count": 15,
   "metadata": {},
   "outputs": [],
   "source": [
    "# Generate some data from a Gaussian distribution\n",
    "mu_real = 0.5\n",
    "sigma_real = 0.3\n",
    "data = np.random.normal(mu_real, sigma_real, 1000)"
   ]
  },
  {
   "cell_type": "code",
   "execution_count": 16,
   "metadata": {},
   "outputs": [
    {
     "data": {
      "image/png": "[encoded data removed]",
      "text/plain": [
       "<Figure size 432x288 with 1 Axes>"
      ]
     },
     "metadata": {
      "needs_background": "light"
     },
     "output_type": "display_data"
    }
   ],
   "source": [
    "plt.hist(data, bins=30, density=True, alpha=0.6, color='g')\n",
    "plt.show()"
   ]
  },
  {
   "cell_type": "code",
   "execution_count": 17,
   "metadata": {},
   "outputs": [],
   "source": [
    "# Define a range of possible mu and sigma values\n",
    "mu_values = np.linspace(-1, 2, 100)\n",
    "sigma_values = np.linspace(0.1, 1, 100)"
   ]
  },
  {
   "cell_type": "code",
   "execution_count": 18,
   "metadata": {},
   "outputs": [],
   "source": [
    "# Calculate the likelihood for each combination of mu and sigma\n",
    "likelihood = np.array([[np.prod(stats.norm.pdf(data, mu, sigma)) \n",
    "                        for mu in mu_values] \n",
    "                       for sigma in sigma_values])"
   ]
  },
  {
   "cell_type": "code",
   "execution_count": 19,
   "metadata": {},
   "outputs": [
    {
     "data": {
      "image/png": "[encoded data removed]",
      "text/plain": [
       "<Figure size 720x504 with 2 Axes>"
      ]
     },
     "metadata": {
      "needs_background": "light"
     },
     "output_type": "display_data"
    }
   ],
   "source": [
    "# Plot the likelihood\n",
    "plt.figure(figsize=(10, 7))\n",
    "plt.contourf(mu_values, sigma_values, likelihood, levels=50)\n",
    "plt.colorbar(label='Likelihood')\n",
    "plt.xlabel('mu')\n",
    "plt.ylabel('sigma')\n",
    "plt.title('Likelihood of Data for Different Parameters')\n",
    "plt.show()\n"
   ]
  },
  {
   "cell_type": "code",
   "execution_count": 22,
   "metadata": {},
   "outputs": [
    {
     "name": "stdout",
     "output_type": "stream",
     "text": [
      "p = 0.5659\n",
      "The data follows a Gaussian distribution\n"
     ]
    }
   ],
   "source": [
    "# Now let's test if the data follows a Gaussian distribution\n",
    "# Statistical test can yeild false positives or false negatives, so it is important to visualize the data\n",
    "# Here, we know the data is Gaussian, but in practice we would not know this\n",
    "# Type I error: False positive, we reject the null hypothesis when it is true\n",
    "# Type II error: False negative, we accept the null hypothesis when it is false\n",
    "# Here, the null hypothesis is that the data is Gaussian\n",
    "k2, p = stats.normaltest(data)\n",
    "print(f\"p = {p:.4f}\")\n",
    "if p < 0.05:\n",
    "    print(\"The data does not follow a Gaussian distribution, Type I error\")\n",
    "else:\n",
    "    print(\"The data follows a Gaussian distribution\")"
   ]
  },
  {
   "cell_type": "code",
   "execution_count": null,
   "metadata": {},
   "outputs": [],
   "source": [
    "# import numpy as np\n",
    "\n",
    "\n",
    "\n",
    "# def negative_log_likelihood(params, data):\n",
    "#     \"\"\"\n",
    "#     Calculate the negative log-likelihood of the observed data given the parameters of a Gaussian distribution.\n",
    "\n",
    "#     Parameters:\n",
    "#     params (tuple): Parameters of the Gaussian distribution (mean, standard deviation).\n",
    "#     data (array-like): Observed data points.\n",
    "\n",
    "#     Returns:\n",
    "#     float: Negative log-likelihood of observing the data given the parameters.\n",
    "#     \"\"\"\n",
    "#     return -np.log(likelihood(data, params))\n",
    "\n",
    "# def estimate_parameters(data):\n",
    "#     \"\"\"\n",
    "#     Estimate the parameters of a Gaussian distribution using maximum likelihood estimation (MLE).\n",
    "\n",
    "#     Parameters:\n",
    "#     data (array-like): Observed data points.\n",
    "\n",
    "#     Returns:\n",
    "#     tuple: Estimated parameters of the Gaussian distribution (mean, standard deviation).\n",
    "#     \"\"\"\n",
    "#     # Initial guess for mean and standard deviation\n",
    "#     initial_guess = [np.mean(data), np.std(data)]\n",
    "#     # Use optimization algorithm (e.g., Nelder-Mead) to minimize negative log-likelihood\n",
    "#     result = minimize(negative_log_likelihood, initial_guess, args=(data,), method='Nelder-Mead')\n",
    "#     # Extract estimated parameters\n",
    "#     estimated_mean, estimated_std = result.x\n",
    "#     return estimated_mean, estimated_std\n",
    "\n",
    "# # Example usage:\n",
    "# np.random.seed(42)  # for reproducibility\n",
    "# true_mean = 2\n",
    "# true_std = 1.5\n",
    "# data = np.random.normal(loc=true_mean, scale=true_std, size=100)\n",
    "# estimated_mean, estimated_std = estimate_parameters(data)\n",
    "# print(\"True Mean:\", true_mean)\n",
    "# print(\"True Standard Deviation:\", true_std)\n",
    "# print(\"Estimated Mean:\", estimated_mean)\n",
    "# print(\"Estimated Standard Deviation:\", estimated_std)\n"
   ]
  }
 ],
 "metadata": {
  "kernelspec": {
   "display_name": "personal",
   "language": "python",
   "name": "python3"
  },
  "language_info": {
   "codemirror_mode": {
    "name": "ipython",
    "version": 3
   },
   "file_extension": ".py",
   "mimetype": "text/x-python",
   "name": "python",
   "nbconvert_exporter": "python",
   "pygments_lexer": "ipython3",
   "version": "3.9.13"
  }
 },
 "nbformat": 4,
 "nbformat_minor": 2
}
