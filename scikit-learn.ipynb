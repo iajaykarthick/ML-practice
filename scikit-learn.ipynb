{
 "cells": [
  {
   "cell_type": "markdown",
   "metadata": {
    "collapsed": true,
    "pycharm": {
     "name": "#%% md\n"
    }
   },
   "source": [
    "# Scikit-learn fit and predict"
   ]
  },
  {
   "cell_type": "markdown",
   "source": [
    "* All machine learning models implemented as Python classes\n",
    "    * They implement the algorithms for learning and predicting\n",
    "    * Store the information learned from the data\n",
    "* Training a model on the data = 'fitting' a model to the data\n",
    "    * uses `.fit()` method\n",
    "* To predict the labels of new data: `.predict()` method"
   ],
   "metadata": {
    "collapsed": false,
    "pycharm": {
     "name": "#%% md\n"
    }
   }
  }
 ],
 "metadata": {
  "kernelspec": {
   "display_name": "Python 3",
   "language": "python",
   "name": "python3"
  },
  "language_info": {
   "codemirror_mode": {
    "name": "ipython",
    "version": 2
   },
   "file_extension": ".py",
   "mimetype": "text/x-python",
   "name": "python",
   "nbconvert_exporter": "python",
   "pygments_lexer": "ipython2",
   "version": "2.7.6"
  }
 },
 "nbformat": 4,
 "nbformat_minor": 0
}