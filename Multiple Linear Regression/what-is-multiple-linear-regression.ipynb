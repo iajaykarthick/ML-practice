{
 "cells": [
  {
   "cell_type": "markdown",
   "metadata": {
    "collapsed": true,
    "pycharm": {
     "name": "#%% md\n"
    }
   },
   "source": [
    "# Multiple Linear Regression"
   ]
  },
  {
   "cell_type": "markdown",
   "source": [
    "Target dependent variable y is dependent on More than one Independent variables (fea\n",
    "tures $x_{1}$, $x_{2}$, ... $x_{n}$)\n",
    "\n",
    "\n",
    "y = $b_{0}$ + $b_{1}$ * $x_{1}$ + $b_{2}$ * $x_{2}$ + ... + $b_{n}$ * $x_{n}$"
   ],
   "metadata": {
    "collapsed": false,
    "pycharm": {
     "name": "#%% md\n"
    }
   }
  },
  {
   "cell_type": "markdown",
   "source": [
    "* More than one independent variables\n",
    "* we need to decide which ones we want to keep and which ones we want to throw out\n",
    "* why throw out ? - we have to keep only the very important features that actually predict the target otherwise our model would become a garbage model."
   ],
   "metadata": {
    "collapsed": false
   }
  },
  {
   "cell_type": "markdown",
   "source": [
    "## Building a Model"
   ],
   "metadata": {
    "collapsed": false
   }
  },
  {
   "cell_type": "markdown",
   "source": [
    "### 5 methods of building models:\n",
    "\n",
    "1. All-in\n",
    "2. Backward Eliminaton\n",
    "3. Forward Selection\n",
    "4. Bidirectional Elimination\n",
    "5. Score comparison\n",
    "\n",
    "Stepwise regression - refers to \" Backward Elimination, Forward Selection and Bidirectional Elimination\""
   ],
   "metadata": {
    "collapsed": false,
    "pycharm": {
     "name": "#%% md\n"
    }
   }
  },
  {
   "cell_type": "markdown",
   "source": [
    "#### Backward Elimination"
   ],
   "metadata": {
    "collapsed": false,
    "pycharm": {
     "name": "#%% md\n"
    }
   }
  },
  {
   "cell_type": "markdown",
   "source": [
    "* Select a significance level to stay in the model (eg. SL = 0.05)\n",
    "* Fit the full model with all possible predictors\n",
    "* Consider the predictor with the highest P-value. If P > SL, go to next step otherwise go to FIN\n",
    "* Remove the predictor\n",
    "* Fit model without this variable. again go to step 3 until the P < SL"
   ],
   "metadata": {
    "collapsed": false,
    "pycharm": {
     "name": "#%% md\n"
    }
   }
  },
  {
   "cell_type": "markdown",
   "source": [
    "#### Forward Selection"
   ],
   "metadata": {
    "collapsed": false,
    "pycharm": {
     "name": "#%% md\n"
    }
   }
  },
  {
   "cell_type": "markdown",
   "source": [
    "1. Select a significance level to enter the model (eg. SL = 0.05)\n",
    "2. Fit all simple regression models y ~ $x_{n}$. Select the one with the lowest P-value/\n",
    "3. Keep this variable and fit all possible models with one extra predictor added the one(s) you already have.\n",
    "4. Consider the predictor with the lowest P-value. If P < SL, go to Step 3 otherwise go to FIN\n",
    "FIN: keep the previous model"
   ],
   "metadata": {
    "collapsed": false,
    "pycharm": {
     "name": "#%% md\n"
    }
   }
  },
  {
   "cell_type": "markdown",
   "source": [
    "#### Bidirectional Elimination"
   ],
   "metadata": {
    "collapsed": false,
    "pycharm": {
     "name": "#%% md\n"
    }
   }
  },
  {
   "cell_type": "markdown",
   "source": [
    "1. Select a significance level to enter and to stay in the model (eg. SLENTER = 0.05, SLSTAY = 0.05)\n",
    "2. Perform the next step of forward selection ( new variables must have: P < SLENTER to enter)\n",
    "3. Perform ALL steps of backward elimination ( Old variables must have: P < SLSTAY to stay)\n",
    "4. Repeat step 2 and 3 until no new variables can enter and no old variables can exit"
   ],
   "metadata": {
    "collapsed": false,
    "pycharm": {
     "name": "#%% md\n"
    }
   }
  },
  {
   "cell_type": "markdown",
   "source": [
    "#### All possible models"
   ],
   "metadata": {
    "collapsed": false,
    "pycharm": {
     "name": "#%% md\n"
    }
   }
  },
  {
   "cell_type": "markdown",
   "source": [
    "1. Select a criterion of goodness of fit (eg. Akaike criterion)\n",
    "2. Construct all possible regression models: $2^{N}$-1 total combinations\n",
    "3. Select the one with the best criterion\n",
    "\n",
    "Example: If we have 10columns, then we have to construct 1023 models to find best one"
   ],
   "metadata": {
    "collapsed": false,
    "pycharm": {
     "name": "#%% md\n"
    }
   }
  },
  {
   "cell_type": "markdown",
   "source": [
    "Backward Elimination is the fastest one"
   ],
   "metadata": {
    "collapsed": false,
    "pycharm": {
     "name": "#%% md\n"
    }
   }
  }
 ],
 "metadata": {
  "kernelspec": {
   "display_name": "Python 3",
   "language": "python",
   "name": "python3"
  },
  "language_info": {
   "codemirror_mode": {
    "name": "ipython",
    "version": 2
   },
   "file_extension": ".py",
   "mimetype": "text/x-python",
   "name": "python",
   "nbconvert_exporter": "python",
   "pygments_lexer": "ipython2",
   "version": "2.7.6"
  }
 },
 "nbformat": 4,
 "nbformat_minor": 0
}