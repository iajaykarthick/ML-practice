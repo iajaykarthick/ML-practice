{
 "cells": [
  {
   "cell_type": "markdown",
   "metadata": {
    "collapsed": true,
    "pycharm": {
     "name": "#%% md\n"
    }
   },
   "source": [
    "# Linear Regression"
   ]
  },
  {
   "cell_type": "markdown",
   "source": [
    "## Assumptions of Linear Regression:\n",
    "\n",
    "1. Linearity\n",
    "2. Homoscedasticity\n",
    "3. Multivariate normality\n",
    "4. Independence of errors\n",
    "5. Lack of multicollinearity\n",
    "\n",
    "Before building a linear regression model, we need to check if these assumptions are true."
   ],
   "metadata": {
    "collapsed": false,
    "pycharm": {
     "name": "#%% md\n"
    }
   }
  },
  {
   "cell_type": "markdown",
   "source": [
    "## Dummy variables"
   ],
   "metadata": {
    "collapsed": false,
    "pycharm": {
     "name": "#%% md\n"
    }
   }
  },
  {
   "cell_type": "markdown",
   "source": [
    "When you face categorical variables in regression models, we need to create dummy variables to use it in equation.\n",
    "\n",
    "Approach:\n",
    "\n",
    "* First go through each values in that column and find all different categories\n",
    "* For every single category we find, create a new column\n",
    "* This expands our data set and adding some additional columns into it.\n",
    "* To populate values to these new columns, we use 0, 1 values"
   ],
   "metadata": {
    "collapsed": false,
    "pycharm": {
     "name": "#%% md\n"
    }
   }
  }
 ],
 "metadata": {
  "kernelspec": {
   "display_name": "Python 3",
   "language": "python",
   "name": "python3"
  },
  "language_info": {
   "codemirror_mode": {
    "name": "ipython",
    "version": 2
   },
   "file_extension": ".py",
   "mimetype": "text/x-python",
   "name": "python",
   "nbconvert_exporter": "python",
   "pygments_lexer": "ipython2",
   "version": "2.7.6"
  }
 },
 "nbformat": 4,
 "nbformat_minor": 0
}