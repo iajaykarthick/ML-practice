{
 "cells": [
  {
   "cell_type": "markdown",
   "metadata": {
    "collapsed": true,
    "pycharm": {
     "name": "#%% md\n"
    }
   },
   "source": [
    "# Machine Learning"
   ]
  },
  {
   "cell_type": "markdown",
   "metadata": {
    "pycharm": {
     "name": "#%% md\n"
    }
   },
   "source": [
    "* The art and science of\n",
    "    * Giving computers the ability to learn to make decisions from data\n",
    "    * without being explicitly programmed.\n",
    "\n",
    "* Examples\n",
    "    * Learning to predict whether an email is spam or not\n",
    "    * Clustering wikipedia entries into difference categories"
   ]
  },
  {
   "cell_type": "markdown",
   "metadata": {
    "pycharm": {
     "name": "#%% md\n"
    }
   },
   "source": [
    "## Types of machine learning:\n",
    " * Supervised Learning\n",
    " * Unsupervised Learning\n",
    " * Reinforcement Learning"
   ]
  },
  {
   "cell_type": "markdown",
   "metadata": {
    "pycharm": {
     "name": "#%% md\n"
    }
   },
   "source": [
    "## Supervised Learning\n",
    "\n",
    "* When try to predict a particular class label (like a spam or not a spam).\n",
    "* When there are particular lables present, we call it supervised learning.\n",
    "\n",
    "* We have predictor variables / features and a target variable.\n",
    "* Predictor variable is also referred as independent variable.\n",
    "* Target variable is also referred as response variable\n",
    "\n",
    "* Aim of supervised Learning is to build a model that is able to predict the target variable"
   ]
  },
  {
   "cell_type": "markdown",
   "metadata": {
    "pycharm": {
     "name": "#%% md\n"
    }
   },
   "source": [
    "### Types of supervised learning\n",
    "\n",
    "* If the target variable consists of categories like 'Click' or 'no click', 'spam' or 'not spam', we call the learning task as classification.\n",
    "* If the target variable is a continuosly varying variable, then it is regression task."
   ]
  },
  {
   "cell_type": "markdown",
   "metadata": {
    "pycharm": {
     "name": "#%% md\n"
    }
   },
   "source": [
    "### Goals of supervised learning\n",
    "\n",
    "Learn from from data for which the right output is known, so that we can make predictions on new data for which we don't know the output.\n",
    "\n",
    "* Automate time-consuming or expensive manual tasks.\n",
    "    * Example: Doctor's diagnosis\n",
    "* Make predictions about future\n",
    "    * Example: Will a customer click on an ad or not?\n",
    "* Need labeled data\n",
    "    * Historical data with labels\n",
    "    * Experiments to get labeled data\n",
    "    * Crowd-sourcing labeled data"
   ]
  },
  {
   "cell_type": "markdown",
   "metadata": {
    "pycharm": {
     "name": "#%% md\n"
    }
   },
   "source": [
    "## Unsupervised Learning\n",
    "\n",
    "* No particular lables exists in advance.\n",
    "* It is a machine learning task of uncovering hidden patterns and structures from unlabled data"
   ]
  },
  {
   "cell_type": "markdown",
   "metadata": {
    "pycharm": {
     "name": "#%% md\n"
    }
   },
   "source": [
    "## Reinforcement Learning\n",
    "\n",
    "* Machines / Software agents interact with an environment.\n",
    "    * Reinforcement agents are able to automatically figure out how to optimise their behavior.\n",
    "    * Given a system of rewards and punishments.\n",
    "\n",
    "* Applications\n",
    "    * Economics\n",
    "    * Genetics\n",
    "    * Game playing"
   ]
  }
 ],
 "metadata": {
  "kernelspec": {
   "display_name": "Python 3 (ipykernel)",
   "language": "python",
   "name": "python3"
  },
  "language_info": {
   "codemirror_mode": {
    "name": "ipython",
    "version": 3
   },
   "file_extension": ".py",
   "mimetype": "text/x-python",
   "name": "python",
   "nbconvert_exporter": "python",
   "pygments_lexer": "ipython3",
   "version": "3.9.13"
  }
 },
 "nbformat": 4,
 "nbformat_minor": 1
}
